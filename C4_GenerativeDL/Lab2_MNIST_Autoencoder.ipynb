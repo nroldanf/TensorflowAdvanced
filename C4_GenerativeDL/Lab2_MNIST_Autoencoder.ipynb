{
 "cells": [
  {
   "cell_type": "markdown",
   "metadata": {
    "id": "nBXbFax4YP34"
   },
   "source": [
    "## Ungraded Lab: MNIST Autoencoder\n",
    "\n",
    "You will now work on an autoencoder that works on the [MNIST dataset](https://www.tensorflow.org/datasets/catalog/mnist). This will encode the inputs to lower resolution images. The decoder should then be able to generate the original input from this compressed representation."
   ]
  },
  {
   "cell_type": "markdown",
   "metadata": {
    "id": "9ZYaLxnBYUKA"
   },
   "source": [
    "## Imports"
   ]
  },
  {
   "cell_type": "code",
   "execution_count": 1,
   "metadata": {
    "executionInfo": {
     "elapsed": 2360,
     "status": "ok",
     "timestamp": 1610686769475,
     "user": {
      "displayName": "Nicolás Roldán",
      "photoUrl": "",
      "userId": "15793920032108430403"
     },
     "user_tz": 300
    },
    "id": "3EXwoz-KHtWO"
   },
   "outputs": [],
   "source": [
    "try:\n",
    "  # %tensorflow_version only exists in Colab.\n",
    "  %tensorflow_version 2.x\n",
    "except Exception:\n",
    "  pass\n",
    "  \n",
    "import tensorflow as tf\n",
    "import tensorflow_datasets as tfds\n",
    "\n",
    "import numpy as np\n",
    "import matplotlib.pyplot as plt"
   ]
  },
  {
   "cell_type": "markdown",
   "metadata": {
    "id": "Is05FyRgYX0c"
   },
   "source": [
    "## Prepare the Dataset"
   ]
  },
  {
   "cell_type": "markdown",
   "metadata": {
    "id": "Xuhe2ksPI8A0"
   },
   "source": [
    "You will load the MNIST data from TFDS into train and test sets. Let's first define a preprocessing function for normalizing and flattening the images. Since we'll be training an autoencoder, this will return `image, image` because the input will also be the target or label while training.\n"
   ]
  },
  {
   "cell_type": "code",
   "execution_count": 2,
   "metadata": {
    "executionInfo": {
     "elapsed": 691,
     "status": "ok",
     "timestamp": 1610686777024,
     "user": {
      "displayName": "Nicolás Roldán",
      "photoUrl": "",
      "userId": "15793920032108430403"
     },
     "user_tz": 300
    },
    "id": "t9F7YsCNIKSA"
   },
   "outputs": [],
   "source": [
    "def map_image(image, label):\n",
    "  '''Normalizes and flattens the image. Returns image as input and label.'''\n",
    "  image = tf.cast(image, dtype=tf.float32)\n",
    "  image = image / 255.0\n",
    "  image = tf.reshape(image, shape=(784,))\n",
    "\n",
    "  return image, image"
   ]
  },
  {
   "cell_type": "code",
   "execution_count": 3,
   "metadata": {
    "colab": {
     "base_uri": "https://localhost:8080/",
     "height": 205,
     "referenced_widgets": [
      "e8cdc6a2499c40d5972808795aa5cbc8",
      "d76d4edbeca74028996e745a3ad49bfd",
      "8f40e13ca4ab43cb860c2789de3a30d1",
      "b1274493bf324402a3684e4c3011e96e",
      "e3e570c6d141446885f1b1b5b4febd17",
      "531a037b2a234be19766f91e606f19eb",
      "51f8dec94cd24fd8837e5c12d44a3a97",
      "e8e6fc1d743e41058bb72a9fdfcaccc2"
     ]
    },
    "executionInfo": {
     "elapsed": 7572,
     "status": "ok",
     "timestamp": 1610686790124,
     "user": {
      "displayName": "Nicolás Roldán",
      "photoUrl": "",
      "userId": "15793920032108430403"
     },
     "user_tz": 300
    },
    "id": "08I1mbYSLbsC",
    "outputId": "ada62fdc-e7c2-436e-acaf-f5bf22c99003"
   },
   "outputs": [
    {
     "name": "stdout",
     "output_type": "stream",
     "text": [
      "\u001b[1mDownloading and preparing dataset mnist/3.0.1 (download: 11.06 MiB, generated: 21.00 MiB, total: 32.06 MiB) to /root/tensorflow_datasets/mnist/3.0.1...\u001b[0m\n"
     ]
    },
    {
     "name": "stderr",
     "output_type": "stream",
     "text": [
      "WARNING:absl:Dataset mnist is hosted on GCS. It will automatically be downloaded to your\n",
      "local data directory. If you'd instead prefer to read directly from our public\n",
      "GCS bucket (recommended if you're running on GCP), you can instead pass\n",
      "`try_gcs=True` to `tfds.load` or set `data_dir=gs://tfds-data/datasets`.\n",
      "\n"
     ]
    },
    {
     "data": {
      "application/vnd.jupyter.widget-view+json": {
       "model_id": "e8cdc6a2499c40d5972808795aa5cbc8",
       "version_major": 2,
       "version_minor": 0
      },
      "text/plain": [
       "HBox(children=(FloatProgress(value=0.0, description='Dl Completed...', max=4.0, style=ProgressStyle(descriptio…"
      ]
     },
     "metadata": {
      "tags": []
     },
     "output_type": "display_data"
    },
    {
     "name": "stdout",
     "output_type": "stream",
     "text": [
      "\n",
      "\n",
      "\u001b[1mDataset mnist downloaded and prepared to /root/tensorflow_datasets/mnist/3.0.1. Subsequent calls will reuse this data.\u001b[0m\n"
     ]
    }
   ],
   "source": [
    "# Load the train and test sets from TFDS\n",
    "\n",
    "BATCH_SIZE = 128\n",
    "SHUFFLE_BUFFER_SIZE = 1024\n",
    "\n",
    "train_dataset = tfds.load('mnist', as_supervised=True, split=\"train\")\n",
    "train_dataset = train_dataset.map(map_image)\n",
    "train_dataset = train_dataset.shuffle(SHUFFLE_BUFFER_SIZE).batch(BATCH_SIZE).repeat()\n",
    "\n",
    "test_dataset = tfds.load('mnist', as_supervised=True, split=\"test\")\n",
    "test_dataset = test_dataset.map(map_image)\n",
    "test_dataset = test_dataset.batch(BATCH_SIZE).repeat()"
   ]
  },
  {
   "cell_type": "markdown",
   "metadata": {
    "id": "Z70w2KXjYk32"
   },
   "source": [
    "## Build the Model"
   ]
  },
  {
   "cell_type": "markdown",
   "metadata": {
    "id": "1MKu48lBM2Qg"
   },
   "source": [
    "You will now build a simple autoencoder to ingest the data. Like before, the encoder will compress the input and reconstructs it in the decoder output."
   ]
  },
  {
   "cell_type": "code",
   "execution_count": 4,
   "metadata": {
    "executionInfo": {
     "elapsed": 812,
     "status": "ok",
     "timestamp": 1610686790942,
     "user": {
      "displayName": "Nicolás Roldán",
      "photoUrl": "",
      "userId": "15793920032108430403"
     },
     "user_tz": 300
    },
    "id": "KRrE2BV4IpzR"
   },
   "outputs": [],
   "source": [
    "def simple_autoencoder(inputs):\n",
    "  '''Builds the encoder and decoder using Dense layers.'''\n",
    "  encoder = tf.keras.layers.Dense(units=32, activation='relu')(inputs)\n",
    "  decoder = tf.keras.layers.Dense(units=784, activation='sigmoid')(encoder)\n",
    "  \n",
    "  return encoder, decoder\n",
    "\n",
    "# set the input shape\n",
    "inputs =  tf.keras.layers.Input(shape=(784,))\n",
    "\n",
    "# get the encoder and decoder output\n",
    "encoder_output, decoder_output = simple_autoencoder(inputs)\n",
    "\n",
    "# setup the encoder because you will visualize its output later\n",
    "encoder_model = tf.keras.Model(inputs=inputs, outputs=encoder_output)\n",
    "\n",
    "# setup the autoencoder\n",
    "autoencoder_model = tf.keras.Model(inputs=inputs, outputs=decoder_output)"
   ]
  },
  {
   "cell_type": "markdown",
   "metadata": {
    "id": "8k9OnSM4YxJd"
   },
   "source": [
    "## Compile the Model"
   ]
  },
  {
   "cell_type": "markdown",
   "metadata": {
    "id": "DvvDqY_XQPyb"
   },
   "source": [
    "You will setup the model for training. You can use binary crossentropy to measure the loss between pixel values that range from 0 (black) to 1 (white)."
   ]
  },
  {
   "cell_type": "code",
   "execution_count": 5,
   "metadata": {
    "executionInfo": {
     "elapsed": 1020,
     "status": "ok",
     "timestamp": 1610686792197,
     "user": {
      "displayName": "Nicolás Roldán",
      "photoUrl": "",
      "userId": "15793920032108430403"
     },
     "user_tz": 300
    },
    "id": "cFwmAhWAYwcc"
   },
   "outputs": [],
   "source": [
    "autoencoder_model.compile(\n",
    "    optimizer=tf.keras.optimizers.Adam(), \n",
    "    loss='binary_crossentropy')"
   ]
  },
  {
   "cell_type": "markdown",
   "metadata": {
    "id": "zzLf0oQ1Y0cI"
   },
   "source": [
    "## Train the Model"
   ]
  },
  {
   "cell_type": "code",
   "execution_count": 6,
   "metadata": {
    "colab": {
     "base_uri": "https://localhost:8080/"
    },
    "executionInfo": {
     "elapsed": 150826,
     "status": "ok",
     "timestamp": 1610686943202,
     "user": {
      "displayName": "Nicolás Roldán",
      "photoUrl": "",
      "userId": "15793920032108430403"
     },
     "user_tz": 300
    },
    "id": "vsaSjlAgYz-7",
    "outputId": "cc3a21eb-cb0c-4cb9-e3ec-27d697ff9256"
   },
   "outputs": [
    {
     "name": "stdout",
     "output_type": "stream",
     "text": [
      "Epoch 1/50\n",
      "468/468 [==============================] - 8s 12ms/step - loss: 0.3181\n",
      "Epoch 2/50\n",
      "468/468 [==============================] - 3s 6ms/step - loss: 0.1509\n",
      "Epoch 3/50\n",
      "468/468 [==============================] - 3s 7ms/step - loss: 0.1230\n",
      "Epoch 4/50\n",
      "468/468 [==============================] - 3s 6ms/step - loss: 0.1102\n",
      "Epoch 5/50\n",
      "468/468 [==============================] - 3s 6ms/step - loss: 0.1028\n",
      "Epoch 6/50\n",
      "468/468 [==============================] - 3s 6ms/step - loss: 0.0986\n",
      "Epoch 7/50\n",
      "468/468 [==============================] - 3s 6ms/step - loss: 0.0963\n",
      "Epoch 8/50\n",
      "468/468 [==============================] - 3s 6ms/step - loss: 0.0952\n",
      "Epoch 9/50\n",
      "468/468 [==============================] - 3s 6ms/step - loss: 0.0946\n",
      "Epoch 10/50\n",
      "468/468 [==============================] - 3s 6ms/step - loss: 0.0942\n",
      "Epoch 11/50\n",
      "468/468 [==============================] - 3s 6ms/step - loss: 0.0941\n",
      "Epoch 12/50\n",
      "468/468 [==============================] - 3s 6ms/step - loss: 0.0938\n",
      "Epoch 13/50\n",
      "468/468 [==============================] - 3s 6ms/step - loss: 0.0938\n",
      "Epoch 14/50\n",
      "468/468 [==============================] - 3s 6ms/step - loss: 0.0935\n",
      "Epoch 15/50\n",
      "468/468 [==============================] - 3s 6ms/step - loss: 0.0934\n",
      "Epoch 16/50\n",
      "468/468 [==============================] - 3s 6ms/step - loss: 0.0933\n",
      "Epoch 17/50\n",
      "468/468 [==============================] - 3s 7ms/step - loss: 0.0933\n",
      "Epoch 18/50\n",
      "468/468 [==============================] - 3s 7ms/step - loss: 0.0932\n",
      "Epoch 19/50\n",
      "468/468 [==============================] - 3s 6ms/step - loss: 0.0931\n",
      "Epoch 20/50\n",
      "468/468 [==============================] - 3s 6ms/step - loss: 0.0931\n",
      "Epoch 21/50\n",
      "468/468 [==============================] - 3s 6ms/step - loss: 0.0931\n",
      "Epoch 22/50\n",
      "468/468 [==============================] - 3s 6ms/step - loss: 0.0930\n",
      "Epoch 23/50\n",
      "468/468 [==============================] - 3s 6ms/step - loss: 0.0930\n",
      "Epoch 24/50\n",
      "468/468 [==============================] - 3s 6ms/step - loss: 0.0929\n",
      "Epoch 25/50\n",
      "468/468 [==============================] - 3s 7ms/step - loss: 0.0929\n",
      "Epoch 26/50\n",
      "468/468 [==============================] - 3s 7ms/step - loss: 0.0930\n",
      "Epoch 27/50\n",
      "468/468 [==============================] - 3s 6ms/step - loss: 0.0930\n",
      "Epoch 28/50\n",
      "468/468 [==============================] - 3s 6ms/step - loss: 0.0929\n",
      "Epoch 29/50\n",
      "468/468 [==============================] - 3s 6ms/step - loss: 0.0929\n",
      "Epoch 30/50\n",
      "468/468 [==============================] - 3s 6ms/step - loss: 0.0929\n",
      "Epoch 31/50\n",
      "468/468 [==============================] - 3s 6ms/step - loss: 0.0929\n",
      "Epoch 32/50\n",
      "468/468 [==============================] - 3s 6ms/step - loss: 0.0928\n",
      "Epoch 33/50\n",
      "468/468 [==============================] - 3s 6ms/step - loss: 0.0929\n",
      "Epoch 34/50\n",
      "468/468 [==============================] - 3s 6ms/step - loss: 0.0929\n",
      "Epoch 35/50\n",
      "468/468 [==============================] - 3s 6ms/step - loss: 0.0929\n",
      "Epoch 36/50\n",
      "468/468 [==============================] - 3s 6ms/step - loss: 0.0928\n",
      "Epoch 37/50\n",
      "468/468 [==============================] - 3s 6ms/step - loss: 0.0928\n",
      "Epoch 38/50\n",
      "468/468 [==============================] - 3s 6ms/step - loss: 0.0928\n",
      "Epoch 39/50\n",
      "468/468 [==============================] - 3s 6ms/step - loss: 0.0928\n",
      "Epoch 40/50\n",
      "468/468 [==============================] - 3s 6ms/step - loss: 0.0928\n",
      "Epoch 41/50\n",
      "468/468 [==============================] - 3s 6ms/step - loss: 0.0928\n",
      "Epoch 42/50\n",
      "468/468 [==============================] - 3s 6ms/step - loss: 0.0927\n",
      "Epoch 43/50\n",
      "468/468 [==============================] - 3s 6ms/step - loss: 0.0926\n",
      "Epoch 44/50\n",
      "468/468 [==============================] - 3s 6ms/step - loss: 0.0927\n",
      "Epoch 45/50\n",
      "468/468 [==============================] - 3s 7ms/step - loss: 0.0926\n",
      "Epoch 46/50\n",
      "468/468 [==============================] - 3s 6ms/step - loss: 0.0928\n",
      "Epoch 47/50\n",
      "468/468 [==============================] - 3s 7ms/step - loss: 0.0926\n",
      "Epoch 48/50\n",
      "468/468 [==============================] - 3s 6ms/step - loss: 0.0927\n",
      "Epoch 49/50\n",
      "468/468 [==============================] - 3s 7ms/step - loss: 0.0926\n",
      "Epoch 50/50\n",
      "468/468 [==============================] - 3s 6ms/step - loss: 0.0927\n"
     ]
    }
   ],
   "source": [
    "train_steps = 60000 // BATCH_SIZE\n",
    "simple_auto_history = autoencoder_model.fit(train_dataset, steps_per_epoch=train_steps, epochs=50)"
   ]
  },
  {
   "cell_type": "markdown",
   "metadata": {
    "id": "1_sKLXnBZFSc"
   },
   "source": [
    "## Display sample results\n",
    "\n",
    "You can now visualize the results. The utility functions below will help in plotting the encoded and decoded values."
   ]
  },
  {
   "cell_type": "code",
   "execution_count": 7,
   "metadata": {
    "executionInfo": {
     "elapsed": 609,
     "status": "ok",
     "timestamp": 1610686943822,
     "user": {
      "displayName": "Nicolás Roldán",
      "photoUrl": "",
      "userId": "15793920032108430403"
     },
     "user_tz": 300
    },
    "id": "5tgFgilORr0M"
   },
   "outputs": [],
   "source": [
    "def display_one_row(disp_images, offset, shape=(28, 28)):\n",
    "  '''Display sample outputs in one row.'''\n",
    "  for idx, test_image in enumerate(disp_images):\n",
    "    plt.subplot(3, 10, offset + idx + 1)\n",
    "    plt.xticks([])\n",
    "    plt.yticks([])\n",
    "    test_image = np.reshape(test_image, shape)\n",
    "    plt.imshow(test_image, cmap='gray')\n",
    "\n",
    "\n",
    "def display_results(disp_input_images, disp_encoded, disp_predicted, enc_shape=(8,4)):\n",
    "  '''Displays the input, encoded, and decoded output values.'''\n",
    "  plt.figure(figsize=(15, 5))\n",
    "  display_one_row(disp_input_images, 0, shape=(28,28,))\n",
    "  display_one_row(disp_encoded, 10, shape=enc_shape)\n",
    "  display_one_row(disp_predicted, 20, shape=(28,28,))"
   ]
  },
  {
   "cell_type": "code",
   "execution_count": 8,
   "metadata": {
    "colab": {
     "base_uri": "https://localhost:8080/",
     "height": 297
    },
    "executionInfo": {
     "elapsed": 2247,
     "status": "ok",
     "timestamp": 1610686945470,
     "user": {
      "displayName": "Nicolás Roldán",
      "photoUrl": "",
      "userId": "15793920032108430403"
     },
     "user_tz": 300
    },
    "id": "qtQyQRxRN_hH",
    "outputId": "1ce0041c-3cbf-4044-ddca-a0350f1ab889"
   },
   "outputs": [
    {
     "data": {
      "image/png": "[encoded data removed]",
      "text/plain": [
       "<Figure size 1080x360 with 30 Axes>"
      ]
     },
     "metadata": {
      "tags": []
     },
     "output_type": "display_data"
    }
   ],
   "source": [
    "# take 1 batch of the dataset\n",
    "test_dataset = test_dataset.take(1)\n",
    "\n",
    "# take the input images and put them in a list\n",
    "output_samples = []\n",
    "for input_image, image in tfds.as_numpy(test_dataset):\n",
    "      output_samples = input_image\n",
    "\n",
    "# pick 10 random numbers to be used as indices to the list above\n",
    "idxs = np.random.choice(BATCH_SIZE, size=10)\n",
    "\n",
    "# get the encoder output\n",
    "encoded_predicted = encoder_model.predict(test_dataset)\n",
    "\n",
    "# get a prediction for the test batch\n",
    "simple_predicted = autoencoder_model.predict(test_dataset)\n",
    "\n",
    "# display the 10 samples, encodings and decoded values!\n",
    "display_results(output_samples[idxs], encoded_predicted[idxs], simple_predicted[idxs])"
   ]
  },
  {
   "cell_type": "code",
   "execution_count": null,
   "metadata": {
    "id": "0PUVH4Wcajpl"
   },
   "outputs": [],
   "source": []
  }
 ],
 "metadata": {
  "accelerator": "GPU",
  "colab": {
   "collapsed_sections": [],
   "name": "Copy of C4_W2_Lab_2_MNIST_Autoencoder.ipynb",
   "provenance": [
    {
     "file_id": "1AbRfhAnTBKLvlROih8Anov6GJenJ8UTl",
     "timestamp": 1610686750687
    }
   ]
  },
  "kernelspec": {
   "display_name": "Python 3",
   "language": "python",
   "name": "python3"
  },
  "language_info": {
   "codemirror_mode": {
    "name": "ipython",
    "version": 3
   },
   "file_extension": ".py",
   "mimetype": "text/x-python",
   "name": "python",
   "nbconvert_exporter": "python",
   "pygments_lexer": "ipython3",
   "version": "3.7.4"
  },
  "widgets": {
   "application/vnd.jupyter.widget-state+json": {
    "51f8dec94cd24fd8837e5c12d44a3a97": {
     "model_module": "@jupyter-widgets/controls",
     "model_name": "DescriptionStyleModel",
     "state": {
      "_model_module": "@jupyter-widgets/controls",
      "_model_module_version": "1.5.0",
      "_model_name": "DescriptionStyleModel",
      "_view_count": null,
      "_view_module": "@jupyter-widgets/base",
      "_view_module_version": "1.2.0",
      "_view_name": "StyleView",
      "description_width": ""
     }
    },
    "531a037b2a234be19766f91e606f19eb": {
     "model_module": "@jupyter-widgets/base",
     "model_name": "LayoutModel",
     "state": {
      "_model_module": "@jupyter-widgets/base",
      "_model_module_version": "1.2.0",
      "_model_name": "LayoutModel",
      "_view_count": null,
      "_view_module": "@jupyter-widgets/base",
      "_view_module_version": "1.2.0",
      "_view_name": "LayoutView",
      "align_content": null,
      "align_items": null,
      "align_self": null,
      "border": null,
      "bottom": null,
      "display": null,
      "flex": null,
      "flex_flow": null,
      "grid_area": null,
      "grid_auto_columns": null,
      "grid_auto_flow": null,
      "grid_auto_rows": null,
      "grid_column": null,
      "grid_gap": null,
      "grid_row": null,
      "grid_template_areas": null,
      "grid_template_columns": null,
      "grid_template_rows": null,
      "height": null,
      "justify_content": null,
      "justify_items": null,
      "left": null,
      "margin": null,
      "max_height": null,
      "max_width": null,
      "min_height": null,
      "min_width": null,
      "object_fit": null,
      "object_position": null,
      "order": null,
      "overflow": null,
      "overflow_x": null,
      "overflow_y": null,
      "padding": null,
      "right": null,
      "top": null,
      "visibility": null,
      "width": null
     }
    },
    "8f40e13ca4ab43cb860c2789de3a30d1": {
     "model_module": "@jupyter-widgets/controls",
     "model_name": "FloatProgressModel",
     "state": {
      "_dom_classes": [],
      "_model_module": "@jupyter-widgets/controls",
      "_model_module_version": "1.5.0",
      "_model_name": "FloatProgressModel",
      "_view_count": null,
      "_view_module": "@jupyter-widgets/controls",
      "_view_module_version": "1.5.0",
      "_view_name": "ProgressView",
      "bar_style": "success",
      "description": "Dl Completed...: 100%",
      "description_tooltip": null,
      "layout": "IPY_MODEL_531a037b2a234be19766f91e606f19eb",
      "max": 4,
      "min": 0,
      "orientation": "horizontal",
      "style": "IPY_MODEL_e3e570c6d141446885f1b1b5b4febd17",
      "value": 4
     }
    },
    "b1274493bf324402a3684e4c3011e96e": {
     "model_module": "@jupyter-widgets/controls",
     "model_name": "HTMLModel",
     "state": {
      "_dom_classes": [],
      "_model_module": "@jupyter-widgets/controls",
      "_model_module_version": "1.5.0",
      "_model_name": "HTMLModel",
      "_view_count": null,
      "_view_module": "@jupyter-widgets/controls",
      "_view_module_version": "1.5.0",
      "_view_name": "HTMLView",
      "description": "",
      "description_tooltip": null,
      "layout": "IPY_MODEL_e8e6fc1d743e41058bb72a9fdfcaccc2",
      "placeholder": "​",
      "style": "IPY_MODEL_51f8dec94cd24fd8837e5c12d44a3a97",
      "value": " 4/4 [00:05&lt;00:00,  1.50s/ file]"
     }
    },
    "d76d4edbeca74028996e745a3ad49bfd": {
     "model_module": "@jupyter-widgets/base",
     "model_name": "LayoutModel",
     "state": {
      "_model_module": "@jupyter-widgets/base",
      "_model_module_version": "1.2.0",
      "_model_name": "LayoutModel",
      "_view_count": null,
      "_view_module": "@jupyter-widgets/base",
      "_view_module_version": "1.2.0",
      "_view_name": "LayoutView",
      "align_content": null,
      "align_items": null,
      "align_self": null,
      "border": null,
      "bottom": null,
      "display": null,
      "flex": null,
      "flex_flow": null,
      "grid_area": null,
      "grid_auto_columns": null,
      "grid_auto_flow": null,
      "grid_auto_rows": null,
      "grid_column": null,
      "grid_gap": null,
      "grid_row": null,
      "grid_template_areas": null,
      "grid_template_columns": null,
      "grid_template_rows": null,
      "height": null,
      "justify_content": null,
      "justify_items": null,
      "left": null,
      "margin": null,
      "max_height": null,
      "max_width": null,
      "min_height": null,
      "min_width": null,
      "object_fit": null,
      "object_position": null,
      "order": null,
      "overflow": null,
      "overflow_x": null,
      "overflow_y": null,
      "padding": null,
      "right": null,
      "top": null,
      "visibility": null,
      "width": null
     }
    },
    "e3e570c6d141446885f1b1b5b4febd17": {
     "model_module": "@jupyter-widgets/controls",
     "model_name": "ProgressStyleModel",
     "state": {
      "_model_module": "@jupyter-widgets/controls",
      "_model_module_version": "1.5.0",
      "_model_name": "ProgressStyleModel",
      "_view_count": null,
      "_view_module": "@jupyter-widgets/base",
      "_view_module_version": "1.2.0",
      "_view_name": "StyleView",
      "bar_color": null,
      "description_width": "initial"
     }
    },
    "e8cdc6a2499c40d5972808795aa5cbc8": {
     "model_module": "@jupyter-widgets/controls",
     "model_name": "HBoxModel",
     "state": {
      "_dom_classes": [],
      "_model_module": "@jupyter-widgets/controls",
      "_model_module_version": "1.5.0",
      "_model_name": "HBoxModel",
      "_view_count": null,
      "_view_module": "@jupyter-widgets/controls",
      "_view_module_version": "1.5.0",
      "_view_name": "HBoxView",
      "box_style": "",
      "children": [
       "IPY_MODEL_8f40e13ca4ab43cb860c2789de3a30d1",
       "IPY_MODEL_b1274493bf324402a3684e4c3011e96e"
      ],
      "layout": "IPY_MODEL_d76d4edbeca74028996e745a3ad49bfd"
     }
    },
    "e8e6fc1d743e41058bb72a9fdfcaccc2": {
     "model_module": "@jupyter-widgets/base",
     "model_name": "LayoutModel",
     "state": {
      "_model_module": "@jupyter-widgets/base",
      "_model_module_version": "1.2.0",
      "_model_name": "LayoutModel",
      "_view_count": null,
      "_view_module": "@jupyter-widgets/base",
      "_view_module_version": "1.2.0",
      "_view_name": "LayoutView",
      "align_content": null,
      "align_items": null,
      "align_self": null,
      "border": null,
      "bottom": null,
      "display": null,
      "flex": null,
      "flex_flow": null,
      "grid_area": null,
      "grid_auto_columns": null,
      "grid_auto_flow": null,
      "grid_auto_rows": null,
      "grid_column": null,
      "grid_gap": null,
      "grid_row": null,
      "grid_template_areas": null,
      "grid_template_columns": null,
      "grid_template_rows": null,
      "height": null,
      "justify_content": null,
      "justify_items": null,
      "left": null,
      "margin": null,
      "max_height": null,
      "max_width": null,
      "min_height": null,
      "min_width": null,
      "object_fit": null,
      "object_position": null,
      "order": null,
      "overflow": null,
      "overflow_x": null,
      "overflow_y": null,
      "padding": null,
      "right": null,
      "top": null,
      "visibility": null,
      "width": null
     }
    }
   }
  }
 },
 "nbformat": 4,
 "nbformat_minor": 4
}
